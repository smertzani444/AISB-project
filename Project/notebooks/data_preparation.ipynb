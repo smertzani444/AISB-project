{
 "cells": [
  {
   "cell_type": "markdown",
   "id": "ccb83491",
   "metadata": {},
   "source": [
    "# Imports & Dependencies"
   ]
  },
  {
   "cell_type": "code",
   "execution_count": 1,
   "id": "1562cf47",
   "metadata": {},
   "outputs": [],
   "source": [
    "import pandas as pd\n",
    "from collections import defaultdict\n",
    "import sys\n",
    "import os\n",
    "import shutil as sh\n",
    "import urllib\n",
    "import tarfile\n",
    "from pathlib import Path\n",
    "\n",
    "import importlib\n",
    "\n",
    "\n",
    "from ipywidgets import interact, interactive, fixed, interact_manual, IntProgress\n",
    "import ipywidgets as widgets # type: ignore\n",
    "from IPython.display import display\n",
    "import gzip\n",
    "\n",
    "#Pandarallel works only on linux and mac\n",
    "try:\n",
    "    from pandarallel import pandarallel\n",
    "    pandarallel.initialize(nb_workers=8,progress_bar=True)\n",
    "    PARRALEL = True\n",
    "except:\n",
    "    PARRALEL = False\n",
    "\n",
    "from tqdm.notebook import tnrange, tqdm\n",
    "tqdm.pandas() #activate tqdm progressbar for pandas apply"
   ]
  },
  {
   "cell_type": "markdown",
   "id": "6f7f4f9f",
   "metadata": {},
   "source": [
    "# Folder Creation"
   ]
  },
  {
   "cell_type": "code",
   "execution_count": 2,
   "id": "79bfed57",
   "metadata": {},
   "outputs": [],
   "source": [
    "SETUP = {} #Dictionnary with ALL parameters"
   ]
  },
  {
   "cell_type": "code",
   "execution_count": 3,
   "id": "99a3cd4c",
   "metadata": {},
   "outputs": [],
   "source": [
    "#Folder definition\n",
    "from sys import platform\n",
    "if platform == \"linux\" or platform == \"linux2\":\n",
    "    PEPRMINT_FOLDER = \"/home/user_stel/AISB/Project\"\n",
    "elif platform == \"darwin\":\n",
    "    PEPRMINT_FOLDER = \"/home/user_stel/AISB/Project\"\n",
    "else:\n",
    "    raise ValueError(\"OS NOT FOUND\")\n",
    "WORKDIR = f\"{PEPRMINT_FOLDER}/dataset/\"\n",
    "CATHFOLDER = f\"{PEPRMINT_FOLDER}/databases/cath/\"\n",
    "ALFAFOLDFOLDER = f\"{PEPRMINT_FOLDER}/databases/alfafold/\"\n",
    "PROSITEFOLDER = f\"{PEPRMINT_FOLDER}/databases/prosite/\"\n",
    "UNIPROTFOLDER = f\"{PEPRMINT_FOLDER}/databases/uniprot/\"\n",
    "FIGURESFOLDER = f\"{PEPRMINT_FOLDER}/figures/\"\n",
    "\n",
    "SETUP[\"PEPRMINT_FOLDER\"]=PEPRMINT_FOLDER\n",
    "SETUP[\"WORKDIR\"]=WORKDIR\n",
    "SETUP[\"CATHFOLDER\"]=CATHFOLDER\n",
    "SETUP[\"PROSITEFOLDER\"]=PROSITEFOLDER\n",
    "SETUP[\"ALFAFOLDFOLDER\"]=ALFAFOLDFOLDER\n",
    "SETUP[\"UNIPROTFOLDER\"]=UNIPROTFOLDER\n",
    "SETUP[\"FIGURESFOLDER\"]=FIGURESFOLDER"
   ]
  },
  {
   "cell_type": "code",
   "execution_count": 4,
   "id": "7f177eaa",
   "metadata": {},
   "outputs": [],
   "source": [
    "if not os.path.exists(PEPRMINT_FOLDER):\n",
    "    os.makedirs(PEPRMINT_FOLDER)\n",
    "if not os.path.exists(WORKDIR):\n",
    "    os.makedirs(WORKDIR)\n",
    "if not os.path.exists(FIGURESFOLDER):\n",
    "    os.makedirs(FIGURESFOLDER)\n",
    "if not os.path.exists(ALFAFOLDFOLDER):\n",
    "    os.makedirs(ALFAFOLDFOLDER)\n",
    "if not os.path.exists(UNIPROTFOLDER):\n",
    "    os.makedirs(UNIPROTFOLDER)\n",
    "if not os.path.exists(PROSITEFOLDER):\n",
    "    os.makedirs(PROSITEFOLDER) #MSA will contains the alignments in \"msa\" format (FASTA). \n",
    "if not os.path.exists(CATHFOLDER):\n",
    "    os.makedirs(CATHFOLDER)"
   ]
  },
  {
   "cell_type": "code",
   "execution_count": 5,
   "id": "d85d9fdb",
   "metadata": {},
   "outputs": [],
   "source": [
    "for k in SETUP:\n",
    "    exec(f\"{k}2 = SETUP['{k}']\")"
   ]
  },
  {
   "cell_type": "code",
   "execution_count": 6,
   "id": "2290a56d",
   "metadata": {},
   "outputs": [],
   "source": [
    "DOMAIN_PROSITE = {\n",
    "    \"PH\": \"PS50003\",\n",
    "    \"C2\": [\"PS50004\",\"PS51547\"],\n",
    "    \"C1\": \"PS50081\",  # Note : no C1 prosite on SMART but 2 C1 ProSite on Interprot (PS50081,PS00479), I took PS50081 since the data in PS00479 are in PS50081.\n",
    "    \"PX\": \"PS50195\",\n",
    "    # \"FYVE\":\"PS50178\",\n",
    "    \"FYVE\": [\"PS50178\",'PS50089', 'PS00518','PS50016','PS01359','PS50014','PS00633','PS50119'],  # FYVE CAN BE THIS ONE TOO....\n",
    "    # \"PPASE_MYOTUBULARIN\":\"PS51339\",# no GRAM domain found on prosite. Has to do this manually. Go on http://smart.embl-heidelberg.de/smart/do_annotation.pl?DOMAIN=GRAM&BLAST=DUMMY\n",
    "    \"BAR\": \"PS51021\",  # 1URU is missing on prosite\n",
    "    # \"GLA\":\"PS50963\",\n",
    "    \"ENTH\": \"PS50942\",\n",
    "    \"SH2\": \"PS50001\",\n",
    "    \"SEC14\": \"PS50191\",\n",
    "    \"START\": \"PS50848\",\n",
    "    \"C2DIS\":\"PS50022\",\n",
    "    \"GLA\": \"PS50998\",\n",
    "    \"PLD\":\"PS50035\",\n",
    "    \"PLA\":\"PS00118\",\n",
    "    \"ANNEXIN\":\"PS00223\",\n",
    "}\n",
    "# Invert keys and values to have PROSITEID ==> DOMAIN\n",
    "PROSITE_DOMAIN = {}\n",
    "for key, value in DOMAIN_PROSITE.items():\n",
    "    if type(value) == type([]):\n",
    "        for subvalues in value:\n",
    "            PROSITE_DOMAIN[subvalues] = key\n",
    "    else:\n",
    "        PROSITE_DOMAIN[value] = key\n",
    "# PROSITE_DOMAIN = {v: k for k, v in DOMAIN_PROSITE.items()}\n",
    "\n",
    "DOMAIN_CATH = {\n",
    "    \"PH\": \"2.30.29.30\",\n",
    "    \"C2\": \"2.60.40.150\",\n",
    "    \"C1\": \"3.30.60.20\",\n",
    "    \"PX\": \"3.30.1520.10\",\n",
    "    \"FYVE\": \"3.30.40.10\",\n",
    "    \"BAR\": \"1.20.1270.60\",\n",
    "    \"ENTH\": \"1.25.40.90\",\n",
    "    \"SH2\": \"3.30.505.10\",\n",
    "    \"SEC14\": \"3.40.525.10\",\n",
    "    \"START\": \"3.30.530.20\",\n",
    "    \"C2DIS\": \"2.60.120.260\",\n",
    "    \"GLA\":\"2.40.20.10\",\n",
    "    \"PLD\":\"3.20.20.190\",\n",
    "    \"PLA\":\"1.20.90.10\",\n",
    "    \"ANNEXIN\":\"1.10.220.10\",\n",
    "}\n",
    "\n",
    "DOMAIN_INTERPRO = {\n",
    "    \"PH\": \"SSF50729\",\n",
    "    \"C2\": \"SSF49562\",\n",
    "    \"C1\": None,\n",
    "    \"PX\": \"SSF64268\",\n",
    "    \"FYVE\": \"SSF57903\", #badly classified it looks like...\n",
    "    \"BAR\": \"SSF103657\",\n",
    "    \"ENTH\": \"SSF48464\",\n",
    "    \"SH2\": \"SSF55550\",\n",
    "    \"SEC14\": [\"SSF52087\",\"SSF46938\"], #the CRAL TRIO domain is truncated in SSF.\n",
    "    \"START\": \"SSF55961\",\n",
    "    \"C2DIS\": \"SSF49785\",\n",
    "    \"GLA\":None,\n",
    "    \"PLD\":\"SSF51695\",\n",
    "    \"PLA\":\"G3DSA:1.20.90.10\",\n",
    "    \"ANNEXIN\":\"SSF47874\",\n",
    "}\n",
    "\n",
    "DOMAIN_INTERPRO_REFINE = {\n",
    "    \"PH\": True,\n",
    "    \"C2\": False,\n",
    "    \"C1\": False,\n",
    "    \"PX\": True,\n",
    "    \"FYVE\": False,\n",
    "    \"BAR\": False,\n",
    "    \"ENTH\": False,\n",
    "    \"SH2\": False,\n",
    "    \"SEC14\": False,\n",
    "    \"START\": True,\n",
    "    \"C2DIS\": False,\n",
    "    \"GLA\":False,\n",
    "    \"PLD\":False,\n",
    "    \"PLA\":True,\n",
    "    \"ANNEXIN\":False,\n",
    "}\n",
    "\n",
    "# Invert keys and values to have CATHID ==> DOMAIN\n",
    "CATH_DOMAIN = {v: k for k, v in DOMAIN_CATH.items()}\n",
    "SUPERFAMILY = CATH_DOMAIN\n",
    "SETUP[\"DOMAIN_PROSITE\"] = DOMAIN_PROSITE\n",
    "SETUP[\"PROSITE_DOMAIN\"] = PROSITE_DOMAIN\n",
    "SETUP[\"DOMAIN_CATH\"] = DOMAIN_CATH\n",
    "SETUP[\"CATH_DOMAIN\"] = CATH_DOMAIN\n",
    "SETUP[\"SUPERFAMILY\"] = SUPERFAMILY"
   ]
  },
  {
   "cell_type": "code",
   "execution_count": 7,
   "id": "4ba2ec29",
   "metadata": {},
   "outputs": [
    {
     "data": {
      "text/plain": [
       "'/home/user_stel/AISB/Project/databases/prosite/'"
      ]
     },
     "execution_count": 7,
     "metadata": {},
     "output_type": "execute_result"
    }
   ],
   "source": [
    "PROSITEFOLDER"
   ]
  },
  {
   "cell_type": "markdown",
   "id": "40003074",
   "metadata": {},
   "source": [
    "# Methods "
   ]
  },
  {
   "cell_type": "code",
   "execution_count": 8,
   "id": "50053146",
   "metadata": {},
   "outputs": [],
   "source": [
    "def selectUniquePerCluster(df, cathCluster, Uniref, withAlignment = True):\n",
    "    \"\"\"\n",
    "    Return a datasert with only 1 data per choosed clusters.\n",
    "    \"\"\"\n",
    "    \n",
    "    if cathCluster not in [\"S35\",\"S60\",\"S95\",\"S100\"]:\n",
    "        raise ValueError('CathCluster given not in [\"S35\",\"S60\",\"S95\",\"S100\"]')\n",
    "    \n",
    "    if Uniref not in [\"uniref50\",\"uniref90\",\"uniref100\"]:\n",
    "        raise ValueError('CathCluster given not in [\"uniref50\",\"uniref90\",\"uniref100\"]')\n",
    "    \n",
    "    if withAlignment:\n",
    "        df = df[~df.alignment_position.isnull()]\n",
    "    \n",
    "    cathdf = df.query(\"data_type == 'cathpdb'\")\n",
    "    seqdf = df.query(\"data_type == 'prosite'\")\n",
    "    \n",
    "    def selectUniqueCath(group):\n",
    "        uniqueNames = group.cathpdb.unique()\n",
    "        select = uniqueNames[0]\n",
    "        \n",
    "        #return group.query(\"cathpdb == @select\")\n",
    "        return select\n",
    "    \n",
    "    def selectUniqueUniref(group,exclusion):\n",
    "        uniqueNames = group.uniprot_acc.unique()\n",
    "        select = uniqueNames[0]\n",
    "        #return group.query(\"uniprot_acc == @select\")\n",
    "        if select not in exclusion:\n",
    "            return select\n",
    "        \n",
    "\n",
    "    dfReprCathNames = cathdf.groupby([\"domain\",cathCluster]).apply(selectUniqueCath).to_numpy()\n",
    "    \n",
    "    excludeUniref = df.query(\"cathpdb in @dfReprCathNames\").uniprot_acc.unique() #Structures are prior to sequences.\n",
    "    dfReprUnirefNames = seqdf.groupby([\"domain\",Uniref]).apply(selectUniqueUniref, exclusion=excludeUniref).to_numpy()\n",
    "    dfReprCath = cathdf.query(\"cathpdb in @dfReprCathNames\")\n",
    "    dfReprUniref = seqdf.query(\"uniprot_acc in @dfReprUnirefNames\")\n",
    "    \n",
    "    return (pd.concat([dfReprCath,dfReprUniref]))"
   ]
  },
  {
   "cell_type": "markdown",
   "id": "ccc0f062",
   "metadata": {},
   "source": [
    "# Download data "
   ]
  },
  {
   "cell_type": "markdown",
   "id": "087e55f8",
   "metadata": {},
   "source": [
    "### Download CATH-domain-list"
   ]
  },
  {
   "cell_type": "code",
   "execution_count": 9,
   "id": "3c6afb2c",
   "metadata": {},
   "outputs": [
    {
     "name": "stdout",
     "output_type": "stream",
     "text": [
      "         Domain  Class  Architecture  Topology  Homologous  S35  S60  S95  \\\n",
      "0       1oaiA00      1            10         8        10.0  1.0  1.0  1.0   \n",
      "1       1go5A00      1            10         8        10.0  1.0  1.0  1.0   \n",
      "2       3frhA01      1            10         8        10.0  2.0  1.0  1.0   \n",
      "3       3friA01      1            10         8        10.0  2.0  1.0  1.0   \n",
      "4       3b89A01      1            10         8        10.0  2.0  1.0  1.0   \n",
      "...         ...    ...           ...       ...         ...  ...  ...  ...   \n",
      "430036  4uldS02      3           100        10        10.0  3.0  1.0  1.0   \n",
      "430037  4ulgN02      3           100        10        10.0  3.0  1.0  1.0   \n",
      "430038  4uliS02      3           100        10        10.0  3.0  1.0  1.0   \n",
      "430039  4ulmN02      3           100        10        10.0  3.0  1.0  1.0   \n",
      "430040  4uloS02      3           100        10         NaN  NaN  NaN  NaN   \n",
      "\n",
      "        S100  S100Count  DomSize  Resolution  \n",
      "0        1.0        1.0     59.0         1.0  \n",
      "1        1.0        2.0     69.0       999.0  \n",
      "2        1.0        1.0     58.0         1.2  \n",
      "3        1.0        2.0     54.0         1.8  \n",
      "4        2.0        1.0     54.0         2.6  \n",
      "...      ...        ...      ...         ...  \n",
      "430036   1.0       33.0     92.0      1000.0  \n",
      "430037   1.0       34.0     92.0      1000.0  \n",
      "430038   1.0       35.0     92.0      1000.0  \n",
      "430039   1.0       36.0     92.0      1000.0  \n",
      "430040   NaN        NaN      NaN         NaN  \n",
      "\n",
      "[430041 rows x 12 columns]\n"
     ]
    }
   ],
   "source": [
    "# ─── 1) Settings ───────────────────────────────────────────────────────────────\n",
    "UPDATE = False  # set to True when you actually want to re-download\n",
    "CATHFOLDER = \"/home/user_stel/AISB/Project/databases/cath/\"\n",
    "domfile    = \"/home/user_stel/AISB/Project/databases/cath/cath-domain-list-v4_2_0.txt\"\n",
    "url        = \"ftp://orengoftp.biochem.ucl.ac.uk/cath/releases/latest-release/cath-classification-data/cath-domain-list-<v4_2_0>.txt\"\n",
    "\n",
    "# ─── 2) Build the destination path ─────────────────────────────────────────────\n",
    "destination = Path(CATHFOLDER) / domfile\n",
    "\n",
    "# ─── 4) Load into pandas ────────────────────────────────────────────────────────\n",
    "column_names = [\n",
    "    'Domain','Class','Architecture','Topology','Homologous',\n",
    "    'S35','S60','S95','S100','S100Count','DomSize','Resolution'\n",
    "]\n",
    "\n",
    "# CATH domain‐list files are space­delimited; lines starting with \"#\" are comments\n",
    "df_cath = pd.read_csv(\n",
    "    destination,\n",
    "    sep=r'\\s+',\n",
    "    header=None,\n",
    "    names=column_names,\n",
    "    comment='#',\n",
    "    engine='python'\n",
    ")\n",
    "\n",
    "print(df_cath)\n"
   ]
  },
  {
   "cell_type": "markdown",
   "id": "1ac8c7ab",
   "metadata": {},
   "source": [
    "### Download Correspondance between Uniprot and PDB code"
   ]
  },
  {
   "cell_type": "code",
   "execution_count": 10,
   "id": "a626a31e",
   "metadata": {},
   "outputs": [
    {
     "name": "stdout",
     "output_type": "stream",
     "text": [
      "✔️  Already downloaded: /home/user_stel/AISB/Project/databases/cath/pdb_chain_uniprot.csv.gz\n"
     ]
    }
   ],
   "source": [
    "import os, requests\n",
    "from time import sleep\n",
    "\n",
    "url = \"ftp://ftp.ebi.ac.uk/pub/databases/msd/sifts/flatfiles/csv/pdb_chain_uniprot.csv.gz\"\n",
    "destination = os.path.join(CATHFOLDER, \"pdb_chain_uniprot.csv.gz\")\n",
    "\n",
    "def download_with_retries(url, dest, max_tries=3, chunk_size=1024*1024):\n",
    "    for attempt in range(1, max_tries+1):\n",
    "        try:\n",
    "            with requests.get(url, stream=True, timeout=60) as r:\n",
    "                r.raise_for_status()\n",
    "                with open(dest, \"wb\") as f:\n",
    "                    for chunk in r.iter_content(chunk_size=chunk_size):\n",
    "                        if chunk:\n",
    "                            f.write(chunk)\n",
    "            return\n",
    "        except Exception as e:\n",
    "            print(f\"↻ Attempt {attempt} failed: {e}\")\n",
    "            if attempt == max_tries:\n",
    "                raise\n",
    "            sleep(5)\n",
    "\n",
    "# download only if missing or forced\n",
    "if not os.path.exists(destination) or UPDATE:\n",
    "    download_with_retries(url, destination)\n",
    "    print(\"✅ Download complete:\", destination)\n",
    "else:\n",
    "    print(\"✔️  Already downloaded:\", destination)\n"
   ]
  },
  {
   "cell_type": "code",
   "execution_count": 11,
   "id": "836abaa1",
   "metadata": {},
   "outputs": [
    {
     "name": "stdout",
     "output_type": "stream",
     "text": [
      "⚠️ Warning: EOFError raised, file may be slightly truncated but proceeding anyway.\n",
      "✅ Decompressed to: /home/user_stel/AISB/Project/databases/uniprot/pdb_chain_uniprot.csv\n"
     ]
    }
   ],
   "source": [
    "import gzip, shutil\n",
    "\n",
    "gz_path  = \"/home/user_stel/AISB/Project/databases/uniprot/pdb_chain_uniprot.csv.gz\"\n",
    "csv_path = gz_path[:-3]\n",
    "\n",
    "try:\n",
    "    with gzip.open(gz_path, \"rb\") as f_in, open(csv_path, \"wb\") as f_out:\n",
    "        shutil.copyfileobj(f_in, f_out)\n",
    "except EOFError:\n",
    "    print(\"⚠️ Warning: EOFError raised, file may be slightly truncated but proceeding anyway.\")\n",
    "\n",
    "print(\"✅ Decompressed to:\", csv_path)\n"
   ]
  },
  {
   "cell_type": "markdown",
   "id": "fb412a3c",
   "metadata": {},
   "source": [
    "### Download Prosite files "
   ]
  },
  {
   "cell_type": "code",
   "execution_count": 12,
   "id": "7f3a12c9",
   "metadata": {},
   "outputs": [
    {
     "name": "stdout",
     "output_type": "stream",
     "text": [
      "✅ PROSITE data already present in /home/user_stel/AISB/Project/databases/prosite/msa\n"
     ]
    }
   ],
   "source": [
    "import os, urllib.request, tarfile\n",
    "\n",
    "PROSITE_URL      = \"ftp://ftp.expasy.org/databases/prosite/prosite_alignments.tar.gz\"\n",
    "PROSITEFOLDER    = \"/home/user_stel/AISB/Project/databases/prosite/\"\n",
    "archive_path     = os.path.join(PROSITEFOLDER, \"prosite_alignments.tar.gz\")\n",
    "prosite_alignments       = os.path.join(PROSITEFOLDER, \"msa\")\n",
    "\n",
    "# Only download & extract if the msa folder doesn’t already exist:\n",
    "if not os.path.isdir(prosite_alignments):\n",
    "    print(f\"↓ Downloading PROSITE alignments to {archive_path}\")\n",
    "    urllib.request.urlretrieve(PROSITE_URL, archive_path)\n",
    "\n",
    "    print(\"→ Extracting…\")\n",
    "    with tarfile.open(archive_path, \"r:gz\") as tf:\n",
    "        tf.extractall(path=PROSITEFOLDER)\n",
    "\n",
    "    # Rename the extracted folder to “msa”\n",
    "    os.rename(\n",
    "        os.path.join(PROSITEFOLDER, \"prosite_alignments\"),\n",
    "        prosite_alignments\n",
    "    )\n",
    "\n",
    "    # Clean up\n",
    "    os.remove(archive_path)\n",
    "    print(\"✅ PROSITE data ready in\", prosite_alignments)\n",
    "else:\n",
    "    print(\"✅ PROSITE data already present in\", prosite_alignments)\n"
   ]
  },
  {
   "cell_type": "markdown",
   "id": "69496a9c",
   "metadata": {},
   "source": [
    "## Download CATH PDB files"
   ]
  },
  {
   "cell_type": "code",
   "execution_count": 13,
   "id": "6bf28eba",
   "metadata": {},
   "outputs": [
    {
     "data": {
      "application/vnd.jupyter.widget-view+json": {
       "model_id": "200254a10d1b4c5286184905f3b0043a",
       "version_major": 2,
       "version_minor": 0
      },
      "text/plain": [
       "  0%|          | 0/430041 [00:00<?, ?it/s]"
      ]
     },
     "metadata": {},
     "output_type": "display_data"
    }
   ],
   "source": [
    "# Reading Cath domain list\n",
    "cathDomains = pd.read_csv(domfile,comment='#', sep=r\"\\s+\", header=None)\n",
    "cathDomains.columns = column_names\n",
    "if PARRALEL:\n",
    "    cathDomains['Superfamily'] = cathDomains.parallel_apply(lambda x: f\"{x.Class}.{x.Architecture}.{x.Topology}.{x.Homologous}\", axis=1)\n",
    "else:\n",
    "    cathDomains['Superfamily'] = cathDomains.progress_apply(lambda x: f\"{x.Class}.{x.Architecture}.{x.Topology}.{x.Homologous}\", axis=1)"
   ]
  },
  {
   "cell_type": "code",
   "execution_count": 14,
   "id": "a2120151",
   "metadata": {},
   "outputs": [],
   "source": [
    "# Creating the superfamily \n",
    "cathSuperFamily = pd.DataFrame()\n",
    "cathSuperFamily['Superfamily'] = cathDomains.Superfamily\n",
    "cathSuperFamily['Domain'] = cathDomains.Domain"
   ]
  },
  {
   "cell_type": "code",
   "execution_count": 15,
   "id": "b12759ee",
   "metadata": {},
   "outputs": [
    {
     "data": {
      "application/vnd.jupyter.widget-view+json": {
       "model_id": "b1d502aed471472e9e4d94b486a2cd25",
       "version_major": 2,
       "version_minor": 0
      },
      "text/plain": [
       "  0%|          | 0/430041 [00:00<?, ?it/s]"
      ]
     },
     "metadata": {},
     "output_type": "display_data"
    }
   ],
   "source": [
    "# Creating a dictionary with the superfamily as key and list of cathdomain (pdb format) as value\n",
    "cathDomainsPerSuperFamily = defaultdict(list)\n",
    "#do not parralel this one\n",
    "_ = cathSuperFamily.progress_apply(lambda x: cathDomainsPerSuperFamily[x.Superfamily].append(x.Domain), axis=1)"
   ]
  },
  {
   "cell_type": "code",
   "execution_count": 16,
   "id": "b0865fd6",
   "metadata": {},
   "outputs": [],
   "source": [
    "CATHVERSION = 'v4_2_0'"
   ]
  },
  {
   "cell_type": "code",
   "execution_count": 17,
   "id": "3a485d2c",
   "metadata": {},
   "outputs": [
    {
     "name": "stdout",
     "output_type": "stream",
     "text": [
      ">Working with PH domain\n",
      "[]\n"
     ]
    },
    {
     "data": {
      "application/vnd.jupyter.widget-view+json": {
       "model_id": "18fb99075f234c3a9d45d2724bd1e314",
       "version_major": 2,
       "version_minor": 0
      },
      "text/plain": [
       "0it [00:00, ?it/s]"
      ]
     },
     "metadata": {},
     "output_type": "display_data"
    },
    {
     "name": "stdout",
     "output_type": "stream",
     "text": [
      ">Working with C2 domain\n",
      "[]\n"
     ]
    },
    {
     "data": {
      "application/vnd.jupyter.widget-view+json": {
       "model_id": "9cd598db8ff94ac482c4463df2181974",
       "version_major": 2,
       "version_minor": 0
      },
      "text/plain": [
       "0it [00:00, ?it/s]"
      ]
     },
     "metadata": {},
     "output_type": "display_data"
    },
    {
     "name": "stdout",
     "output_type": "stream",
     "text": [
      ">Working with C1 domain\n",
      "[]\n"
     ]
    },
    {
     "data": {
      "application/vnd.jupyter.widget-view+json": {
       "model_id": "c17b0358612a46d987028ab3c05b2851",
       "version_major": 2,
       "version_minor": 0
      },
      "text/plain": [
       "0it [00:00, ?it/s]"
      ]
     },
     "metadata": {},
     "output_type": "display_data"
    },
    {
     "name": "stdout",
     "output_type": "stream",
     "text": [
      ">Working with PX domain\n",
      "[]\n"
     ]
    },
    {
     "data": {
      "application/vnd.jupyter.widget-view+json": {
       "model_id": "88e449f46bc2474a817be6080a661d73",
       "version_major": 2,
       "version_minor": 0
      },
      "text/plain": [
       "0it [00:00, ?it/s]"
      ]
     },
     "metadata": {},
     "output_type": "display_data"
    },
    {
     "name": "stdout",
     "output_type": "stream",
     "text": [
      ">Working with FYVE domain\n",
      "[]\n"
     ]
    },
    {
     "data": {
      "application/vnd.jupyter.widget-view+json": {
       "model_id": "48fb785a79214f2e9a3301c699582f24",
       "version_major": 2,
       "version_minor": 0
      },
      "text/plain": [
       "0it [00:00, ?it/s]"
      ]
     },
     "metadata": {},
     "output_type": "display_data"
    },
    {
     "name": "stdout",
     "output_type": "stream",
     "text": [
      ">Working with BAR domain\n",
      "[]\n"
     ]
    },
    {
     "data": {
      "application/vnd.jupyter.widget-view+json": {
       "model_id": "618f460dba644c678584712e7f4ef093",
       "version_major": 2,
       "version_minor": 0
      },
      "text/plain": [
       "0it [00:00, ?it/s]"
      ]
     },
     "metadata": {},
     "output_type": "display_data"
    },
    {
     "name": "stdout",
     "output_type": "stream",
     "text": [
      ">Working with ENTH domain\n",
      "[]\n"
     ]
    },
    {
     "data": {
      "application/vnd.jupyter.widget-view+json": {
       "model_id": "264411c05c224e6490e1b1125eeb58b6",
       "version_major": 2,
       "version_minor": 0
      },
      "text/plain": [
       "0it [00:00, ?it/s]"
      ]
     },
     "metadata": {},
     "output_type": "display_data"
    },
    {
     "name": "stdout",
     "output_type": "stream",
     "text": [
      ">Working with SH2 domain\n",
      "[]\n"
     ]
    },
    {
     "data": {
      "application/vnd.jupyter.widget-view+json": {
       "model_id": "530c2e2ba42b461dba9ff0e02a1caa9c",
       "version_major": 2,
       "version_minor": 0
      },
      "text/plain": [
       "0it [00:00, ?it/s]"
      ]
     },
     "metadata": {},
     "output_type": "display_data"
    },
    {
     "name": "stdout",
     "output_type": "stream",
     "text": [
      ">Working with SEC14 domain\n",
      "[]\n"
     ]
    },
    {
     "data": {
      "application/vnd.jupyter.widget-view+json": {
       "model_id": "5b841e3286484c4084a0084a82599e22",
       "version_major": 2,
       "version_minor": 0
      },
      "text/plain": [
       "0it [00:00, ?it/s]"
      ]
     },
     "metadata": {},
     "output_type": "display_data"
    },
    {
     "name": "stdout",
     "output_type": "stream",
     "text": [
      ">Working with START domain\n",
      "[]\n"
     ]
    },
    {
     "data": {
      "application/vnd.jupyter.widget-view+json": {
       "model_id": "77b55f037557406bb8349106a846f238",
       "version_major": 2,
       "version_minor": 0
      },
      "text/plain": [
       "0it [00:00, ?it/s]"
      ]
     },
     "metadata": {},
     "output_type": "display_data"
    },
    {
     "name": "stdout",
     "output_type": "stream",
     "text": [
      ">Working with C2DIS domain\n",
      "[]\n"
     ]
    },
    {
     "data": {
      "application/vnd.jupyter.widget-view+json": {
       "model_id": "34158fdd7fbd4427a543f5d3f08513f3",
       "version_major": 2,
       "version_minor": 0
      },
      "text/plain": [
       "0it [00:00, ?it/s]"
      ]
     },
     "metadata": {},
     "output_type": "display_data"
    },
    {
     "name": "stdout",
     "output_type": "stream",
     "text": [
      ">Working with GLA domain\n",
      "[]\n"
     ]
    },
    {
     "data": {
      "application/vnd.jupyter.widget-view+json": {
       "model_id": "40641b07d43e44afab3f8770145c9595",
       "version_major": 2,
       "version_minor": 0
      },
      "text/plain": [
       "0it [00:00, ?it/s]"
      ]
     },
     "metadata": {},
     "output_type": "display_data"
    },
    {
     "name": "stdout",
     "output_type": "stream",
     "text": [
      ">Working with PLD domain\n",
      "[]\n"
     ]
    },
    {
     "data": {
      "application/vnd.jupyter.widget-view+json": {
       "model_id": "b4405c1eb5dd4eec91e03b996be66d01",
       "version_major": 2,
       "version_minor": 0
      },
      "text/plain": [
       "0it [00:00, ?it/s]"
      ]
     },
     "metadata": {},
     "output_type": "display_data"
    },
    {
     "name": "stdout",
     "output_type": "stream",
     "text": [
      ">Working with PLA domain\n",
      "[]\n"
     ]
    },
    {
     "data": {
      "application/vnd.jupyter.widget-view+json": {
       "model_id": "344381660d204292a78ce34436d686e6",
       "version_major": 2,
       "version_minor": 0
      },
      "text/plain": [
       "0it [00:00, ?it/s]"
      ]
     },
     "metadata": {},
     "output_type": "display_data"
    },
    {
     "name": "stdout",
     "output_type": "stream",
     "text": [
      ">Working with ANNEXIN domain\n",
      "[]\n"
     ]
    },
    {
     "data": {
      "application/vnd.jupyter.widget-view+json": {
       "model_id": "c3c262088f3b4915b0a5836069ec0f86",
       "version_major": 2,
       "version_minor": 0
      },
      "text/plain": [
       "0it [00:00, ?it/s]"
      ]
     },
     "metadata": {},
     "output_type": "display_data"
    }
   ],
   "source": [
    "def download_dom(dom, folder):\n",
    "    url = \"http://www.cathdb.info/version/\"+CATHVERSION+\"/api/rest/id/\"+dom+\".pdb\"\n",
    "    destination = folder+dom+'.pdb'\n",
    "    if not os.path.isfile(destination): \n",
    "        urllib.request.urlretrieve(url, destination)\n",
    "    #progressbar.value += 1\n",
    "\n",
    "def fetch_dom_for_superfamily(superfamily, cathDomainsPerSuperFamily, domName):\n",
    "    print(f\">Working with {domName} domain\")\n",
    "    global CATHFOLDER\n",
    "    folder = CATHFOLDER+'domains/'+domName+'/raw/'\n",
    "    if not os.path.exists(folder):\n",
    "        os.makedirs(folder)\n",
    "    if not os.path.exists(CATHFOLDER+'domains/'+domName+'/cleaned/'):\n",
    "        os.makedirs(CATHFOLDER+'domains/'+domName+'/cleaned/')\n",
    "\n",
    "    domlist = cathDomainsPerSuperFamily[superfamily]\n",
    "    \n",
    "    if PARRALEL:\n",
    "        pd.Series(domlist).parallel_apply(lambda x: download_dom(x, folder))\n",
    "    else:\n",
    "        print(domlist)\n",
    "        pd.Series(domlist).progress_apply(lambda x: download_dom(x, folder))\n",
    "\n",
    "\n",
    "        \n",
    "        \n",
    "for superfamily,domain in SUPERFAMILY.items():\n",
    "    fetch_dom_for_superfamily(superfamily, cathDomainsPerSuperFamily, domain)\n",
    "    "
   ]
  },
  {
   "cell_type": "markdown",
   "id": "ed63481c",
   "metadata": {},
   "source": [
    "# Generation Phase"
   ]
  },
  {
   "cell_type": "code",
   "execution_count": 18,
   "id": "51c9fd33",
   "metadata": {},
   "outputs": [
    {
     "data": {
      "application/vnd.jupyter.widget-view+json": {
       "model_id": "b42f11f9733a4dfdad40755c4da96e1b",
       "version_major": 2,
       "version_minor": 0
      },
      "text/plain": [
       "ToggleButton(value=False, description='Recalculation ?', icon='cogs', tooltip='Click for recalculation')"
      ]
     },
     "metadata": {},
     "output_type": "display_data"
    }
   ],
   "source": [
    "RECALCULATION = False \n",
    "recalculation_widget = widgets.ToggleButton(\n",
    "    value=RECALCULATION,\n",
    "    description='Recalculation ?',\n",
    "    disabled=False,\n",
    "    button_style='', # 'success', 'info', 'warning', 'danger' or ''\n",
    "    tooltip='Click for recalculation',\n",
    "    icon='cogs' # (FontAwesome names without the `fa-` prefix)\n",
    ")\n",
    "display(recalculation_widget)"
   ]
  },
  {
   "cell_type": "markdown",
   "id": "748d9570",
   "metadata": {},
   "source": [
    "## Instanciating the builder object"
   ]
  },
  {
   "cell_type": "code",
   "execution_count": 19,
   "id": "837dd8a6",
   "metadata": {},
   "outputs": [
    {
     "name": "stdout",
     "output_type": "stream",
     "text": [
      "cwd: /home/user_stel/AISB/Project/notebooks\n"
     ]
    }
   ],
   "source": [
    "import os\n",
    "# this tells you where the notebook thinks “.” is\n",
    "print(\"cwd:\", os.getcwd())\n",
    "# make sure this is /home/user_stel/AISB/Project (or wherever your src/ lives)\n"
   ]
  },
  {
   "cell_type": "code",
   "execution_count": 20,
   "id": "9a4a219e",
   "metadata": {},
   "outputs": [
    {
     "name": "stdout",
     "output_type": "stream",
     "text": [
      "sys.path[0] = /home/user_stel/AISB/Project\n",
      "src/ exists? True\n"
     ]
    }
   ],
   "source": [
    "import sys\n",
    "PROJECT_ROOT = \"/home/user_stel/AISB/Project\"   # <— adjust if your path is different\n",
    "if PROJECT_ROOT not in sys.path:\n",
    "    sys.path.insert(0, PROJECT_ROOT)\n",
    "\n",
    "# verify\n",
    "print(\"sys.path[0] =\", sys.path[0])\n",
    "print(\"src/ exists?\", os.path.isdir(sys.path[0] + \"/src\"))\n"
   ]
  },
  {
   "cell_type": "code",
   "execution_count": 21,
   "id": "5cde641a",
   "metadata": {},
   "outputs": [
    {
     "name": "stdout",
     "output_type": "stream",
     "text": [
      "Project root: /home/user_stel/AISB/Project\n",
      "Found src at: True\n",
      "Found builder at: True\n"
     ]
    }
   ],
   "source": [
    "import sys, os\n",
    "# assume this notebook lives in Project/notebooks/\n",
    "PROJECT_ROOT = os.path.abspath(os.path.join(os.getcwd(), os.pardir))\n",
    "SRC_DIR      = os.path.join(PROJECT_ROOT, \"src\")\n",
    "\n",
    "# add src/ to sys.path so Python can find your packages\n",
    "sys.path.insert(0, SRC_DIR)\n",
    "\n",
    "# sanity check\n",
    "print(\"Project root:\", PROJECT_ROOT)\n",
    "print(\"Found src at:\", os.path.isdir(SRC_DIR))\n",
    "print(\"Found builder at:\", os.path.isdir(os.path.join(SRC_DIR, \"builder\")))\n",
    "\n",
    "# now import!\n",
    "from builder.Builder import Builder\n"
   ]
  },
  {
   "cell_type": "code",
   "execution_count": 22,
   "id": "c0158a93",
   "metadata": {},
   "outputs": [
    {
     "name": "stdout",
     "output_type": "stream",
     "text": [
      "notebook = False\n",
      "notebook = False\n",
      "notebook = False\n"
     ]
    }
   ],
   "source": [
    "from builder.Builder import Builder\n",
    "\n",
    "\n",
    "# assuming SETUP is the dict you built earlier\n",
    "builder = Builder(\n",
    "    SETUP,\n",
    "    recalculate=False,  # False if you only want to download / preprocess data once\n",
    "    update=True,        # True if you want to re‐download or overwrite existing files\n",
    "    notebook=False,     # Set True if you want progress bars inline in a Jupyter notebook\n",
    "    core=4              # Number of parallel workers (match your CPU count / preferences)\n",
    ")"
   ]
  },
  {
   "cell_type": "code",
   "execution_count": 23,
   "id": "955047a2",
   "metadata": {},
   "outputs": [],
   "source": [
    "import builder.Builder as builderEngine\n",
    "importlib.reload(builderEngine)\n",
    "\n",
    "import pepr2ds.builder.Builder as builderEngine\n",
    "builder = builderEngine.Builder(SETUP, recalculate = recalculation_widget.value, update=False, notebook = True, core=1)\n",
    "\n",
    "\n",
    "importlib.reload(builderEngine)\n",
    "builder = builderEngine.Builder(SETUP, recalculate = recalculation_widget.value, update=False, notebook = True, core=1)"
   ]
  }
 ],
 "metadata": {
  "kernelspec": {
   "display_name": "base",
   "language": "python",
   "name": "python3"
  },
  "language_info": {
   "codemirror_mode": {
    "name": "ipython",
    "version": 3
   },
   "file_extension": ".py",
   "mimetype": "text/x-python",
   "name": "python",
   "nbconvert_exporter": "python",
   "pygments_lexer": "ipython3",
   "version": "3.12.2"
  }
 },
 "nbformat": 4,
 "nbformat_minor": 5
}
