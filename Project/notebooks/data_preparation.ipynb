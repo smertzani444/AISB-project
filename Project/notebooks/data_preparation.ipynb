{
 "cells": [
  {
   "cell_type": "markdown",
   "id": "ccb83491",
   "metadata": {},
   "source": [
    "# Imports & Dependencies"
   ]
  },
  {
   "cell_type": "code",
   "execution_count": 1,
   "id": "1562cf47",
   "metadata": {},
   "outputs": [
    {
     "name": "stdout",
     "output_type": "stream",
     "text": [
      "INFO: Pandarallel will run on 8 workers.\n",
      "INFO: Pandarallel will use Memory file system to transfer data between the main process and workers.\n"
     ]
    }
   ],
   "source": [
    "import pandas as pd\n",
    "from collections import defaultdict\n",
    "import sys\n",
    "import os\n",
    "import shutil as sh\n",
    "import urllib\n",
    "import tarfile\n",
    "from pathlib import Path\n",
    "\n",
    "import importlib\n",
    "\n",
    "\n",
    "from ipywidgets import interact, interactive, fixed, interact_manual, IntProgress\n",
    "import ipywidgets as widgets # type: ignore\n",
    "from IPython.display import display\n",
    "import gzip\n",
    "\n",
    "#Pandarallel works only on linux and mac\n",
    "try:\n",
    "    from pandarallel import pandarallel\n",
    "    pandarallel.initialize(nb_workers=8,progress_bar=True)\n",
    "    PARRALEL = True\n",
    "except:\n",
    "    PARRALEL = False\n",
    "\n",
    "from tqdm.notebook import tnrange, tqdm\n",
    "tqdm.pandas() #activate tqdm progressbar for pandas apply"
   ]
  },
  {
   "cell_type": "markdown",
   "id": "6f7f4f9f",
   "metadata": {},
   "source": [
    "# Folder Creation"
   ]
  },
  {
   "cell_type": "code",
   "execution_count": 2,
   "id": "79bfed57",
   "metadata": {},
   "outputs": [],
   "source": [
    "SETUP = {} #Dictionnary with ALL parameters"
   ]
  },
  {
   "cell_type": "code",
   "execution_count": 27,
   "id": "99a3cd4c",
   "metadata": {},
   "outputs": [],
   "source": [
    "#Folder definition\n",
    "from sys import platform\n",
    "if platform == \"linux\" or platform == \"linux2\":\n",
    "    PEPRMINT_FOLDER = \"/home/user_stel/AISB/Project\"\n",
    "elif platform == \"darwin\":\n",
    "    PEPRMINT_FOLDER = \"/home/user_stel/AISB/Project\"\n",
    "else:\n",
    "    raise ValueError(\"OS NOT FOUND\")\n",
    "WORKDIR = f\"{PEPRMINT_FOLDER}/dataset/\"\n",
    "CATHFOLDER = f\"{PEPRMINT_FOLDER}/databases/cath/\"\n",
    "ALPHAFOLDFOLDER = f\"{PEPRMINT_FOLDER}/databases/alphafold/\"\n",
    "PROSITEFOLDER = f\"{PEPRMINT_FOLDER}/databases/prosite/\"\n",
    "UNIPROTFOLDER = f\"{PEPRMINT_FOLDER}/databases/uniprot/\"\n",
    "FIGURESFOLDER = f\"{PEPRMINT_FOLDER}/figures/\"\n",
    "\n",
    "SETUP[\"PEPRMINT_FOLDER\"]=PEPRMINT_FOLDER\n",
    "SETUP[\"WORKDIR\"]=WORKDIR\n",
    "SETUP[\"CATHFOLDER\"]=CATHFOLDER\n",
    "SETUP[\"PROSITEFOLDER\"]=PROSITEFOLDER\n",
    "SETUP[\"ALPHAFOLDFOLDER\"]=ALPHAFOLDFOLDER\n",
    "SETUP[\"UNIPROTFOLDER\"]=UNIPROTFOLDER\n",
    "SETUP[\"FIGURESFOLDER\"]=FIGURESFOLDER"
   ]
  },
  {
   "cell_type": "code",
   "execution_count": null,
   "id": "7f177eaa",
   "metadata": {},
   "outputs": [],
   "source": [
    "if not os.path.exists(PEPRMINT_FOLDER):\n",
    "    os.makedirs(PEPRMINT_FOLDER)\n",
    "if not os.path.exists(WORKDIR):\n",
    "    os.makedirs(WORKDIR)\n",
    "if not os.path.exists(FIGURESFOLDER):\n",
    "    os.makedirs(FIGURESFOLDER)\n",
    "if not os.path.exists(ALPHAFOLDFOLDER):\n",
    "    os.makedirs(ALPHAFOLDFOLDER)\n",
    "if not os.path.exists(UNIPROTFOLDER):\n",
    "    os.makedirs(UNIPROTFOLDER)\n",
    "if not os.path.exists(PROSITEFOLDER):\n",
    "    os.makedirs(PROSITEFOLDER) #MSA will contains the alignments in \"msa\" format (FASTA). \n",
    "if not os.path.exists(CATHFOLDER):\n",
    "    os.makedirs(CATHFOLDER)"
   ]
  },
  {
   "cell_type": "code",
   "execution_count": 5,
   "id": "d85d9fdb",
   "metadata": {},
   "outputs": [],
   "source": [
    "for k in SETUP:\n",
    "    exec(f\"{k}2 = SETUP['{k}']\")"
   ]
  },
  {
   "cell_type": "code",
   "execution_count": 7,
   "id": "2290a56d",
   "metadata": {},
   "outputs": [],
   "source": [
    "DOMAIN_PROSITE = {\n",
    "    \"PH\": \"PS50003\",\n",
    "    \"C2\": [\"PS50004\",\"PS51547\"],\n",
    "    \"C1\": \"PS50081\",  # Note : no C1 prosite on SMART but 2 C1 ProSite on Interprot (PS50081,PS00479), I took PS50081 since the data in PS00479 are in PS50081.\n",
    "    \"PX\": \"PS50195\",\n",
    "    # \"FYVE\":\"PS50178\",\n",
    "    \"FYVE\": [\"PS50178\",'PS50089', 'PS00518','PS50016','PS01359','PS50014','PS00633','PS50119'],  # FYVE CAN BE THIS ONE TOO....\n",
    "    # \"PPASE_MYOTUBULARIN\":\"PS51339\",# no GRAM domain found on prosite. Has to do this manually. Go on http://smart.embl-heidelberg.de/smart/do_annotation.pl?DOMAIN=GRAM&BLAST=DUMMY\n",
    "    \"BAR\": \"PS51021\",  # 1URU is missing on prosite\n",
    "    # \"GLA\":\"PS50963\",\n",
    "    \"ENTH\": \"PS50942\",\n",
    "    \"SH2\": \"PS50001\",\n",
    "    \"SEC14\": \"PS50191\",\n",
    "    \"START\": \"PS50848\",\n",
    "    \"C2DIS\":\"PS50022\",\n",
    "    \"GLA\": \"PS50998\",\n",
    "    \"PLD\":\"PS50035\",\n",
    "    \"PLA\":\"PS00118\",\n",
    "    \"ANNEXIN\":\"PS00223\",\n",
    "}\n",
    "# Invert keys and values to have PROSITEID ==> DOMAIN\n",
    "PROSITE_DOMAIN = {}\n",
    "for key, value in DOMAIN_PROSITE.items():\n",
    "    if type(value) == type([]):\n",
    "        for subvalues in value:\n",
    "            PROSITE_DOMAIN[subvalues] = key\n",
    "    else:\n",
    "        PROSITE_DOMAIN[value] = key\n",
    "# PROSITE_DOMAIN = {v: k for k, v in DOMAIN_PROSITE.items()}\n",
    "\n",
    "DOMAIN_CATH = {\n",
    "    \"PH\": \"2.30.29.30\",\n",
    "    \"C2\": \"2.60.40.150\",\n",
    "    \"C1\": \"3.30.60.20\",\n",
    "    \"PX\": \"3.30.1520.10\",\n",
    "    \"FYVE\": \"3.30.40.10\",\n",
    "    \"BAR\": \"1.20.1270.60\",\n",
    "    \"ENTH\": \"1.25.40.90\",\n",
    "    \"SH2\": \"3.30.505.10\",\n",
    "    \"SEC14\": \"3.40.525.10\",\n",
    "    \"START\": \"3.30.530.20\",\n",
    "    \"C2DIS\": \"2.60.120.260\",\n",
    "    \"GLA\":\"2.40.20.10\",\n",
    "    \"PLD\":\"3.20.20.190\",\n",
    "    \"PLA\":\"1.20.90.10\",\n",
    "    \"ANNEXIN\":\"1.10.220.10\",\n",
    "}\n",
    "\n",
    "DOMAIN_INTERPRO = {\n",
    "    \"PH\": \"SSF50729\",\n",
    "    \"C2\": \"SSF49562\",\n",
    "    \"C1\": None,\n",
    "    \"PX\": \"SSF64268\",\n",
    "    \"FYVE\": \"SSF57903\", #badly classified it looks like...\n",
    "    \"BAR\": \"SSF103657\",\n",
    "    \"ENTH\": \"SSF48464\",\n",
    "    \"SH2\": \"SSF55550\",\n",
    "    \"SEC14\": [\"SSF52087\",\"SSF46938\"], #the CRAL TRIO domain is truncated in SSF.\n",
    "    \"START\": \"SSF55961\",\n",
    "    \"C2DIS\": \"SSF49785\",\n",
    "    \"GLA\":None,\n",
    "    \"PLD\":\"SSF51695\",\n",
    "    \"PLA\":\"G3DSA:1.20.90.10\",\n",
    "    \"ANNEXIN\":\"SSF47874\",\n",
    "}\n",
    "\n",
    "DOMAIN_INTERPRO_REFINE = {\n",
    "    \"PH\": True,\n",
    "    \"C2\": False,\n",
    "    \"C1\": False,\n",
    "    \"PX\": True,\n",
    "    \"FYVE\": False,\n",
    "    \"BAR\": False,\n",
    "    \"ENTH\": False,\n",
    "    \"SH2\": False,\n",
    "    \"SEC14\": False,\n",
    "    \"START\": True,\n",
    "    \"C2DIS\": False,\n",
    "    \"GLA\":False,\n",
    "    \"PLD\":False,\n",
    "    \"PLA\":True,\n",
    "    \"ANNEXIN\":False,\n",
    "}\n",
    "\n",
    "# Invert keys and values to have CATHID ==> DOMAIN\n",
    "CATH_DOMAIN = {v: k for k, v in DOMAIN_CATH.items()}\n",
    "SUPERFAMILY = CATH_DOMAIN\n",
    "SETUP[\"DOMAIN_PROSITE\"] = DOMAIN_PROSITE\n",
    "SETUP[\"PROSITE_DOMAIN\"] = PROSITE_DOMAIN\n",
    "SETUP[\"DOMAIN_CATH\"] = DOMAIN_CATH\n",
    "SETUP[\"CATH_DOMAIN\"] = CATH_DOMAIN\n",
    "SETUP[\"SUPERFAMILY\"] = SUPERFAMILY"
   ]
  },
  {
   "cell_type": "code",
   "execution_count": 8,
   "id": "4ba2ec29",
   "metadata": {},
   "outputs": [
    {
     "data": {
      "text/plain": [
       "'/home/user_stel/AISB/Project/databases/prosite/'"
      ]
     },
     "execution_count": 8,
     "metadata": {},
     "output_type": "execute_result"
    }
   ],
   "source": [
    "PROSITEFOLDER"
   ]
  },
  {
   "cell_type": "markdown",
   "id": "40003074",
   "metadata": {},
   "source": [
    "# Methods "
   ]
  },
  {
   "cell_type": "code",
   "execution_count": 9,
   "id": "50053146",
   "metadata": {},
   "outputs": [],
   "source": [
    "def selectUniquePerCluster(df, cathCluster, Uniref, withAlignment = True):\n",
    "    \"\"\"\n",
    "    Return a datasert with only 1 data per choosed clusters.\n",
    "    \"\"\"\n",
    "    \n",
    "    if cathCluster not in [\"S35\",\"S60\",\"S95\",\"S100\"]:\n",
    "        raise ValueError('CathCluster given not in [\"S35\",\"S60\",\"S95\",\"S100\"]')\n",
    "    \n",
    "    if Uniref not in [\"uniref50\",\"uniref90\",\"uniref100\"]:\n",
    "        raise ValueError('CathCluster given not in [\"uniref50\",\"uniref90\",\"uniref100\"]')\n",
    "    \n",
    "    if withAlignment:\n",
    "        df = df[~df.alignment_position.isnull()]\n",
    "    \n",
    "    cathdf = df.query(\"data_type == 'cathpdb'\")\n",
    "    seqdf = df.query(\"data_type == 'prosite'\")\n",
    "    \n",
    "    def selectUniqueCath(group):\n",
    "        uniqueNames = group.cathpdb.unique()\n",
    "        select = uniqueNames[0]\n",
    "        \n",
    "        #return group.query(\"cathpdb == @select\")\n",
    "        return select\n",
    "    \n",
    "    def selectUniqueUniref(group,exclusion):\n",
    "        uniqueNames = group.uniprot_acc.unique()\n",
    "        select = uniqueNames[0]\n",
    "        #return group.query(\"uniprot_acc == @select\")\n",
    "        if select not in exclusion:\n",
    "            return select\n",
    "        \n",
    "\n",
    "    dfReprCathNames = cathdf.groupby([\"domain\",cathCluster]).apply(selectUniqueCath).to_numpy()\n",
    "    \n",
    "    excludeUniref = df.query(\"cathpdb in @dfReprCathNames\").uniprot_acc.unique() #Structures are prior to sequences.\n",
    "    dfReprUnirefNames = seqdf.groupby([\"domain\",Uniref]).apply(selectUniqueUniref, exclusion=excludeUniref).to_numpy()\n",
    "    dfReprCath = cathdf.query(\"cathpdb in @dfReprCathNames\")\n",
    "    dfReprUniref = seqdf.query(\"uniprot_acc in @dfReprUnirefNames\")\n",
    "    \n",
    "    return (pd.concat([dfReprCath,dfReprUniref]))"
   ]
  },
  {
   "cell_type": "markdown",
   "id": "ccc0f062",
   "metadata": {},
   "source": [
    "# Download data "
   ]
  },
  {
   "cell_type": "markdown",
   "id": "087e55f8",
   "metadata": {},
   "source": [
    "### Download CATH-domain-list"
   ]
  },
  {
   "cell_type": "code",
   "execution_count": 53,
   "id": "3c6afb2c",
   "metadata": {},
   "outputs": [
    {
     "name": "stdout",
     "output_type": "stream",
     "text": [
      "↓ Downloading CATH domain list to /home/user_stel/AISB/Project/databases/cath/cath-domain-list-v4_2_0.txt\n"
     ]
    },
    {
     "data": {
      "text/plain": [
       "(PosixPath('/home/user_stel/AISB/Project/databases/cath/cath-domain-list-v4_2_0.txt'),\n",
       " <email.message.Message at 0x7f69b2ba2a80>)"
      ]
     },
     "execution_count": 53,
     "metadata": {},
     "output_type": "execute_result"
    },
    {
     "name": "stdout",
     "output_type": "stream",
     "text": [
      "         Domain  Class  Architecture  Topology  Homologous  S35  S60  S95  \\\n",
      "0       1oaiA00      1            10         8          10    1    1    1   \n",
      "1       1go5A00      1            10         8          10    1    1    1   \n",
      "2       3frhA01      1            10         8          10    2    1    1   \n",
      "3       3friA01      1            10         8          10    2    1    1   \n",
      "4       3b89A01      1            10         8          10    2    1    1   \n",
      "...         ...    ...           ...       ...         ...  ...  ...  ...   \n",
      "434852  2kn1A00      4            10      1290          10    2    1    1   \n",
      "434853  1vprA01      4            10      1300          10    1    1    1   \n",
      "434854  1vprA02      4            10      1310          10    1    1    1   \n",
      "434855  1jyoE00      4            10      1330          10    1    1    1   \n",
      "434856  1jyoF00      4            10      1330          10    1    1    1   \n",
      "\n",
      "        S100  S100Count  DomSize  Resolution  \n",
      "0          1          1       59         1.0  \n",
      "1          1          2       69       999.0  \n",
      "2          1          1       58         1.2  \n",
      "3          1          2       54         1.8  \n",
      "4          2          1       54         2.6  \n",
      "...      ...        ...      ...         ...  \n",
      "434852     1          1       49       999.0  \n",
      "434853     1          1      107         1.8  \n",
      "434854     1          1       83         1.8  \n",
      "434855     1          1      102         1.9  \n",
      "434856     1          2      104         1.9  \n",
      "\n",
      "[434857 rows x 12 columns]\n"
     ]
    }
   ],
   "source": [
    "from pathlib import Path\n",
    "import os, urllib.request\n",
    "import pandas as pd\n",
    "\n",
    "# ─── 1) Settings ───────────────────────────────────────────────────────────────\n",
    "UPDATE     = False\n",
    "CATHFOLDER = \"/home/user_stel/AISB/Project/databases/cath/\"\n",
    "domfile    = \"cath-domain-list-v4_2_0.txt\"\n",
    "url        = (\n",
    "    \"ftp://orengoftp.biochem.ucl.ac.uk/\"\n",
    "    \"cath/releases/all-releases/v4_2_0/\"\n",
    "    \"cath-classification-data/cath-domain-list-v4_2_0.txt\"\n",
    ")\n",
    "\n",
    "# ─── 2) Ensure folder exists ───────────────────────────────────────────────────\n",
    "os.makedirs(CATHFOLDER, exist_ok=True)\n",
    "\n",
    "# ─── 3) Download (if needed) ──────────────────────────────────────────────────\n",
    "destination = Path(CATHFOLDER) / domfile\n",
    "if not destination.exists() or UPDATE:\n",
    "    print(f\"↓ Downloading CATH domain list to {destination}\")\n",
    "    urllib.request.urlretrieve(url, destination)\n",
    "\n",
    "# ─── 4) Read into pandas ───────────────────────────────────────────────────────\n",
    "column_names = [\n",
    "    'Domain','Class','Architecture','Topology','Homologous',\n",
    "    'S35','S60','S95','S100','S100Count','DomSize','Resolution'\n",
    "]\n",
    "\n",
    "df_cath = pd.read_csv(\n",
    "    destination,\n",
    "    sep=r'\\s+',        # whitespace-delimited\n",
    "    header=None,\n",
    "    names=column_names,\n",
    "    comment='#',       # skip lines beginning with “#”\n",
    "    engine='python'\n",
    ")\n",
    "\n",
    "print(df_cath)\n"
   ]
  },
  {
   "cell_type": "markdown",
   "id": "1ac8c7ab",
   "metadata": {},
   "source": [
    "### Download Correspondance between Uniprot and PDB code"
   ]
  },
  {
   "cell_type": "code",
   "execution_count": 11,
   "id": "a626a31e",
   "metadata": {},
   "outputs": [
    {
     "name": "stdout",
     "output_type": "stream",
     "text": [
      "✔️  Already downloaded: /home/user_stel/AISB/Project/databases/cath/pdb_chain_uniprot.csv.gz\n"
     ]
    }
   ],
   "source": [
    "import os, requests\n",
    "from time import sleep\n",
    "\n",
    "url = \"ftp://ftp.ebi.ac.uk/pub/databases/msd/sifts/flatfiles/csv/pdb_chain_uniprot.csv.gz\"\n",
    "destination = os.path.join(CATHFOLDER, \"pdb_chain_uniprot.csv.gz\")\n",
    "\n",
    "def download_with_retries(url, dest, max_tries=3, chunk_size=1024*1024):\n",
    "    for attempt in range(1, max_tries+1):\n",
    "        try:\n",
    "            with requests.get(url, stream=True, timeout=60) as r:\n",
    "                r.raise_for_status()\n",
    "                with open(dest, \"wb\") as f:\n",
    "                    for chunk in r.iter_content(chunk_size=chunk_size):\n",
    "                        if chunk:\n",
    "                            f.write(chunk)\n",
    "            return\n",
    "        except Exception as e:\n",
    "            print(f\"↻ Attempt {attempt} failed: {e}\")\n",
    "            if attempt == max_tries:\n",
    "                raise\n",
    "            sleep(5)\n",
    "\n",
    "# download only if missing or forced\n",
    "if not os.path.exists(destination) or UPDATE:\n",
    "    download_with_retries(url, destination)\n",
    "    print(\"✅ Download complete:\", destination)\n",
    "else:\n",
    "    print(\"✔️  Already downloaded:\", destination)\n"
   ]
  },
  {
   "cell_type": "code",
   "execution_count": 51,
   "id": "836abaa1",
   "metadata": {},
   "outputs": [
    {
     "name": "stdout",
     "output_type": "stream",
     "text": [
      "⚠️ Warning: EOFError raised, file may be slightly truncated but proceeding anyway.\n",
      "✅ Decompressed to: /home/user_stel/AISB/Project/databases/uniprot/pdb_chain_uniprot.csv\n"
     ]
    }
   ],
   "source": [
    "import gzip, shutil\n",
    "\n",
    "gz_path  = \"/home/user_stel/AISB/Project/databases/uniprot/pdb_chain_uniprot.csv.gz\"\n",
    "csv_path = gz_path[:-3]\n",
    "\n",
    "try:\n",
    "    with gzip.open(gz_path, \"rb\") as f_in, open(csv_path, \"wb\") as f_out:\n",
    "        shutil.copyfileobj(f_in, f_out)\n",
    "except EOFError:\n",
    "    print(\"⚠️ Warning: EOFError raised, file may be slightly truncated but proceeding anyway.\")\n",
    "\n",
    "print(\"✅ Decompressed to:\", csv_path)\n",
    "\n"
   ]
  },
  {
   "cell_type": "markdown",
   "id": "fb412a3c",
   "metadata": {},
   "source": [
    "### Download Prosite files "
   ]
  },
  {
   "cell_type": "code",
   "execution_count": 13,
   "id": "7f3a12c9",
   "metadata": {},
   "outputs": [
    {
     "name": "stdout",
     "output_type": "stream",
     "text": [
      "✅ PROSITE data already present in /home/user_stel/AISB/Project/databases/prosite/msa\n"
     ]
    }
   ],
   "source": [
    "import os, urllib.request, tarfile\n",
    "\n",
    "PROSITE_URL      = \"ftp://ftp.expasy.org/databases/prosite/prosite_alignments.tar.gz\"\n",
    "PROSITEFOLDER    = \"/home/user_stel/AISB/Project/databases/prosite/\"\n",
    "archive_path     = os.path.join(PROSITEFOLDER, \"prosite_alignments.tar.gz\")\n",
    "prosite_alignments       = os.path.join(PROSITEFOLDER, \"msa\")\n",
    "\n",
    "# Only download & extract if the msa folder doesn’t already exist:\n",
    "if not os.path.isdir(prosite_alignments):\n",
    "    print(f\"↓ Downloading PROSITE alignments to {archive_path}\")\n",
    "    urllib.request.urlretrieve(PROSITE_URL, archive_path)\n",
    "\n",
    "    print(\"→ Extracting…\")\n",
    "    with tarfile.open(archive_path, \"r:gz\") as tf:\n",
    "        tf.extractall(path=PROSITEFOLDER)\n",
    "\n",
    "    # Rename the extracted folder to “msa”\n",
    "    os.rename(\n",
    "        os.path.join(PROSITEFOLDER, \"prosite_alignments\"),\n",
    "        prosite_alignments\n",
    "    )\n",
    "\n",
    "    # Clean up\n",
    "    os.remove(archive_path)\n",
    "    print(\"✅ PROSITE data ready in\", prosite_alignments)\n",
    "else:\n",
    "    print(\"✅ PROSITE data already present in\", prosite_alignments)\n"
   ]
  },
  {
   "cell_type": "markdown",
   "id": "69496a9c",
   "metadata": {},
   "source": [
    "## Download CATH PDB files"
   ]
  },
  {
   "cell_type": "code",
   "execution_count": 36,
   "id": "6bf28eba",
   "metadata": {},
   "outputs": [
    {
     "data": {
      "application/vnd.jupyter.widget-view+json": {
       "model_id": "5535cb82084c43f5a16b686a90bc2285",
       "version_major": 2,
       "version_minor": 0
      },
      "text/plain": [
       "VBox(children=(HBox(children=(IntProgress(value=0, description='0.00%', max=107511), Label(value='0 / 107511')…"
      ]
     },
     "metadata": {},
     "output_type": "display_data"
    }
   ],
   "source": [
    "# Reading Cath domain list\n",
    "df_domains = pd.read_csv(domfile,comment='#', sep=r\"\\s+\", header=None)\n",
    "df_domains.columns = column_names\n",
    "if PARRALEL:\n",
    "    df_domains['Superfamily'] = df_domains.parallel_apply(lambda x: f\"{x.Class}.{x.Architecture}.{x.Topology}.{x.Homologous}\", axis=1)\n",
    "else:\n",
    "    df_domains['Superfamily'] = df_domains.progress_apply(lambda x: f\"{x.Class}.{x.Architecture}.{x.Topology}.{x.Homologous}\", axis=1)"
   ]
  },
  {
   "cell_type": "code",
   "execution_count": 37,
   "id": "a2120151",
   "metadata": {},
   "outputs": [],
   "source": [
    "# Creating the superfamily \n",
    "cathSuperFamily = pd.DataFrame()\n",
    "cathSuperFamily['Superfamily'] = df_domains.Superfamily\n",
    "cathSuperFamily['Domain'] = df_domains.Domain"
   ]
  },
  {
   "cell_type": "code",
   "execution_count": 38,
   "id": "53578301",
   "metadata": {},
   "outputs": [
    {
     "name": "stdout",
     "output_type": "stream",
     "text": [
      "Notebook settings loaded (general)\n",
      "Reading standard configuration file... not found\n",
      "Using factory configuration, saved locally at '/home/user_stel/AISB/Project/notebooks/peprmint_default.config'\n",
      "\n",
      "*** User option: experimental mode on\n",
      "*** Warning! This limits the dataset size for experimenting purposes\n",
      "***          Use results obtained in this mode with caution\n",
      "***          To turn it off, change 'xp_mode' to False in the config file\n",
      "\n",
      "Working directory: /home/user_stel/AISB/Project/notebooks/data\n"
     ]
    }
   ],
   "source": [
    "from src.settings import Settings\n",
    "settings = Settings()\n",
    "\n",
    "cathDomainsPerSuperFamily = {}\n",
    "for sf in settings.active_superfamilies:\n",
    "    cath_code = settings.DOMAIN_CATH[sf].replace(\".\", \"\")\n",
    "    # assume Domain strings start with the 4-letter PDB code, so filter by cath_code prefix\n",
    "    cathDomainsPerSuperFamily[sf] = (\n",
    "        df_domains\n",
    "        .loc[df_domains.Domain.str[: len(cath_code)] == cath_code, \"Domain\"]\n",
    "        .tolist()\n",
    "    )"
   ]
  },
  {
   "cell_type": "code",
   "execution_count": 16,
   "id": "b12759ee",
   "metadata": {},
   "outputs": [
    {
     "data": {
      "application/vnd.jupyter.widget-view+json": {
       "model_id": "b8dc537f28b24a36bcb6b84de7667e98",
       "version_major": 2,
       "version_minor": 0
      },
      "text/plain": [
       "  0%|          | 0/430041 [00:00<?, ?it/s]"
      ]
     },
     "metadata": {},
     "output_type": "display_data"
    }
   ],
   "source": [
    "# Creating a dictionary with the superfamily as key and list of cathdomain (pdb format) as value\n",
    "cathDomainsPerSuperFamily = defaultdict(list)\n",
    "#do not parralel this one\n",
    "_ = cathSuperFamily.progress_apply(lambda x: cathDomainsPerSuperFamily[x.Superfamily].append(x.Domain), axis=1)"
   ]
  },
  {
   "cell_type": "code",
   "execution_count": 17,
   "id": "b0865fd6",
   "metadata": {},
   "outputs": [],
   "source": [
    "CATHVERSION = 'v4_2_0'"
   ]
  },
  {
   "cell_type": "code",
   "execution_count": 39,
   "id": "3a485d2c",
   "metadata": {},
   "outputs": [
    {
     "name": "stdout",
     "output_type": "stream",
     "text": [
      ">Working with PH domain\n"
     ]
    },
    {
     "ename": "KeyError",
     "evalue": "'2.30.29.30'",
     "output_type": "error",
     "traceback": [
      "\u001b[31m---------------------------------------------------------------------------\u001b[39m",
      "\u001b[31mKeyError\u001b[39m                                  Traceback (most recent call last)",
      "\u001b[36mCell\u001b[39m\u001b[36m \u001b[39m\u001b[32mIn[39]\u001b[39m\u001b[32m, line 25\u001b[39m\n\u001b[32m     19\u001b[39m     pd.Series(domlist).progress_apply(\u001b[38;5;28;01mlambda\u001b[39;00m x: download_dom(x, folder))\n\u001b[32m     24\u001b[39m \u001b[38;5;28;01mfor\u001b[39;00m superfamily,domain \u001b[38;5;129;01min\u001b[39;00m SUPERFAMILY.items():\n\u001b[32m---> \u001b[39m\u001b[32m25\u001b[39m     \u001b[43mfetch_dom_for_superfamily\u001b[49m\u001b[43m(\u001b[49m\u001b[43msuperfamily\u001b[49m\u001b[43m,\u001b[49m\u001b[43m \u001b[49m\u001b[43mcathDomainsPerSuperFamily\u001b[49m\u001b[43m,\u001b[49m\u001b[43m \u001b[49m\u001b[43mdomain\u001b[49m\u001b[43m)\u001b[49m\n",
      "\u001b[36mCell\u001b[39m\u001b[36m \u001b[39m\u001b[32mIn[39]\u001b[39m\u001b[32m, line 17\u001b[39m, in \u001b[36mfetch_dom_for_superfamily\u001b[39m\u001b[34m(superfamily, cathDomainsPerSuperFamily, domName)\u001b[39m\n\u001b[32m     14\u001b[39m \u001b[38;5;28;01mif\u001b[39;00m \u001b[38;5;129;01mnot\u001b[39;00m os.path.exists(CATHFOLDER+\u001b[33m'\u001b[39m\u001b[33mdomains/\u001b[39m\u001b[33m'\u001b[39m+domName+\u001b[33m'\u001b[39m\u001b[33m/cleaned/\u001b[39m\u001b[33m'\u001b[39m):\n\u001b[32m     15\u001b[39m     os.makedirs(CATHFOLDER+\u001b[33m'\u001b[39m\u001b[33mdomains/\u001b[39m\u001b[33m'\u001b[39m+domName+\u001b[33m'\u001b[39m\u001b[33m/cleaned/\u001b[39m\u001b[33m'\u001b[39m)\n\u001b[32m---> \u001b[39m\u001b[32m17\u001b[39m domlist = \u001b[43mcathDomainsPerSuperFamily\u001b[49m\u001b[43m[\u001b[49m\u001b[43msuperfamily\u001b[49m\u001b[43m]\u001b[49m\n\u001b[32m     19\u001b[39m pd.Series(domlist).progress_apply(\u001b[38;5;28;01mlambda\u001b[39;00m x: download_dom(x, folder))\n",
      "\u001b[31mKeyError\u001b[39m: '2.30.29.30'"
     ]
    }
   ],
   "source": [
    "def download_dom(dom, folder):\n",
    "    url = \"http://www.cathdb.info/version/\"+CATHVERSION+\"/api/rest/id/\"+dom+\".pdb\"\n",
    "    destination = folder+dom+'.pdb'\n",
    "    if not os.path.isfile(destination): \n",
    "        urllib.request.urlretrieve(url, destination)\n",
    "    #progressbar.value += 1\n",
    "\n",
    "def fetch_dom_for_superfamily(superfamily, cathDomainsPerSuperFamily, domName):\n",
    "    print(f\">Working with {domName} domain\")\n",
    "    global CATHFOLDER\n",
    "    folder = CATHFOLDER+'domains/'+domName+'/raw/'\n",
    "    if not os.path.exists(folder):\n",
    "        os.makedirs(folder)\n",
    "    if not os.path.exists(CATHFOLDER+'domains/'+domName+'/cleaned/'):\n",
    "        os.makedirs(CATHFOLDER+'domains/'+domName+'/cleaned/')\n",
    "\n",
    "    domlist = cathDomainsPerSuperFamily[superfamily]\n",
    "    \n",
    "    pd.Series(domlist).progress_apply(lambda x: download_dom(x, folder))\n",
    "\n",
    "\n",
    "        \n",
    "        \n",
    "for superfamily,domain in SUPERFAMILY.items():\n",
    "    fetch_dom_for_superfamily(superfamily, cathDomainsPerSuperFamily, domain)\n",
    "    "
   ]
  },
  {
   "cell_type": "markdown",
   "id": "ed63481c",
   "metadata": {},
   "source": [
    "# Generation Phase"
   ]
  },
  {
   "cell_type": "code",
   "execution_count": 19,
   "id": "51c9fd33",
   "metadata": {},
   "outputs": [
    {
     "data": {
      "application/vnd.jupyter.widget-view+json": {
       "model_id": "d68ef39bc51a4e4e85c0552e0f84c60b",
       "version_major": 2,
       "version_minor": 0
      },
      "text/plain": [
       "ToggleButton(value=False, description='Recalculation ?', icon='cogs', tooltip='Click for recalculation')"
      ]
     },
     "metadata": {},
     "output_type": "display_data"
    }
   ],
   "source": [
    "RECALCULATION = False \n",
    "recalculation_widget = widgets.ToggleButton(\n",
    "    value=RECALCULATION,\n",
    "    description='Recalculation ?',\n",
    "    disabled=False,\n",
    "    button_style='', # 'success', 'info', 'warning', 'danger' or ''\n",
    "    tooltip='Click for recalculation',\n",
    "    icon='cogs' # (FontAwesome names without the `fa-` prefix)\n",
    ")\n",
    "display(recalculation_widget)"
   ]
  },
  {
   "cell_type": "markdown",
   "id": "748d9570",
   "metadata": {},
   "source": [
    "## Instanciating the builder object"
   ]
  },
  {
   "cell_type": "code",
   "execution_count": 20,
   "id": "837dd8a6",
   "metadata": {},
   "outputs": [
    {
     "name": "stdout",
     "output_type": "stream",
     "text": [
      "cwd: /home/user_stel/AISB/Project/notebooks\n"
     ]
    }
   ],
   "source": [
    "import os\n",
    "# this tells you where the notebook thinks “.” is\n",
    "print(\"cwd:\", os.getcwd())\n",
    "# make sure this is /home/user_stel/AISB/Project (or wherever your src/ lives)\n"
   ]
  },
  {
   "cell_type": "code",
   "execution_count": 22,
   "id": "9a4a219e",
   "metadata": {},
   "outputs": [
    {
     "name": "stdout",
     "output_type": "stream",
     "text": [
      "sys.path[0] = /home/user_stel/AISB/Project\n",
      "src/ exists? True\n"
     ]
    }
   ],
   "source": [
    "import sys\n",
    "PROJECT_ROOT = \"/home/user_stel/AISB/Project\"   # <— adjust if your path is different\n",
    "if PROJECT_ROOT not in sys.path:\n",
    "    sys.path.insert(0, PROJECT_ROOT)\n",
    "\n",
    "# verify\n",
    "print(\"sys.path[0] =\", sys.path[0])\n",
    "print(\"src/ exists?\", os.path.isdir(sys.path[0] + \"/src\"))\n"
   ]
  },
  {
   "cell_type": "code",
   "execution_count": 31,
   "id": "5cde641a",
   "metadata": {},
   "outputs": [
    {
     "data": {
      "text/plain": [
       "<module 'pepr2ds.builder.Builder' from '/home/user_stel/AISB/Project/pepr2ds/builder/Builder.py'>"
      ]
     },
     "execution_count": 31,
     "metadata": {},
     "output_type": "execute_result"
    }
   ],
   "source": [
    "# importlib.reload(builderEngine)\n",
    "\n",
    "# builder = builderEngine.Builder(SETUP, recalculate = recalculation_widget.value, update=False, notebook = True, core=1)\n",
    "\n",
    "import pepr2ds.builder.Builder as builderEngine\n",
    "importlib.reload(builderEngine)\n",
    "builder = builderEngine.Builder(SETUP, recalculate = recalculation_widget.value, update=False, notebook = True, core=1)\n"
   ]
  },
  {
   "cell_type": "code",
   "execution_count": 28,
   "id": "c0158a93",
   "metadata": {},
   "outputs": [
    {
     "name": "stdout",
     "output_type": "stream",
     "text": [
      "INFO: Pandarallel will run on 4 workers.\n",
      "INFO: Pandarallel will use Memory file system to transfer data between the main process and workers.\n",
      "INFO: Pandarallel will run on 4 workers.\n",
      "INFO: Pandarallel will use Memory file system to transfer data between the main process and workers.\n",
      "INFO: Pandarallel will run on 4 workers.\n",
      "INFO: Pandarallel will use Memory file system to transfer data between the main process and workers.\n"
     ]
    }
   ],
   "source": [
    "from pepr2ds.builder.Builder import Builder\n",
    "\n",
    "\n",
    "# assuming SETUP is the dict you built earlier\n",
    "builder = Builder(\n",
    "    SETUP,\n",
    "    recalculate=False,  # False if you only want to download / preprocess data once\n",
    "    update=True,        # True if you want to re‐download or overwrite existing files\n",
    "    notebook=False,     # Set True if you want progress bars inline in a Jupyter notebook\n",
    "    core=4              # Number of parallel workers (match your CPU count / preferences)\n",
    ")"
   ]
  }
 ],
 "metadata": {
  "kernelspec": {
   "display_name": "base",
   "language": "python",
   "name": "python3"
  },
  "language_info": {
   "codemirror_mode": {
    "name": "ipython",
    "version": 3
   },
   "file_extension": ".py",
   "mimetype": "text/x-python",
   "name": "python",
   "nbconvert_exporter": "python",
   "pygments_lexer": "ipython3",
   "version": "3.12.2"
  }
 },
 "nbformat": 4,
 "nbformat_minor": 5
}
